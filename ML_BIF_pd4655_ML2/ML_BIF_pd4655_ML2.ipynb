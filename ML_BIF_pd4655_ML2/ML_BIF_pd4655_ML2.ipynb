{
 "cells": [
  {
   "cell_type": "code",
   "execution_count": null,
   "id": "ac1529fa",
   "metadata": {},
   "outputs": [
    {
     "name": "stdout",
     "output_type": "stream",
     "text": [
      "Accuracy: 1.0\n",
      "Precision: 1.0\n",
      "Recall: 1.0\n",
      "F1 Score: 1.0\n",
      "\n",
      "Raport klasyfikacji:\n",
      "               precision    recall  f1-score   support\n",
      "\n",
      "           0       1.00      1.00      1.00         1\n",
      "           1       1.00      1.00      1.00         1\n",
      "\n",
      "    accuracy                           1.00         2\n",
      "   macro avg       1.00      1.00      1.00         2\n",
      "weighted avg       1.00      1.00      1.00         2\n",
      "\n"
     ]
    }
   ],
   "source": [
    "import pandas as pd\n",
    "from sklearn.ensemble import RandomForestClassifier\n",
    "from sklearn.model_selection import train_test_split\n",
    "from sklearn.metrics import accuracy_score, precision_score, recall_score, f1_score, classification_report\n",
    "\n",
    "# Dane do zdania\n",
    "data = {\n",
    "    'TP53_expr': [2.1, 8.5, 1.8, 6.2, 7.9, 3.1, 9.2, 2.8],\n",
    "    'BRCA1_expr': [3.4, 7.2, 2.5, 6.1, 6.8, 4.0, 7.9, 3.9],\n",
    "    'TF_motifs': [2, 6, 1, 4, 5, 2, 6, 3],\n",
    "    'KRAS': [1.2, 7.1, 0.9, 6.8, 1.5, 5.5, 1.0, 6.3],\n",
    "    'Cancer_status': [0, 1, 0, 1, 1, 0, 1, 0]\n",
    "}\n",
    "df = pd.DataFrame(data)\n",
    "\n",
    "# podzial na cechy i etykiety\n",
    "X = df.drop(\"Cancer_status\", axis=1)\n",
    "y = df[\"Cancer_status\"]\n",
    "\n",
    "# podział na dane treningowe i testowe\n",
    "X_train, X_test, y_train, y_test = train_test_split(X, y, test_size=0.25, random_state=42)\n",
    "\n",
    "# tworzenie i trenowanie modelu Random Forest\n",
    "model = RandomForestClassifier(random_state=42)\n",
    "model.fit(X_train, y_train)\n",
    "\n",
    "#predykcja\n",
    "y_pred = model.predict(X_test)\n",
    "\n",
    "# metryki oceny\n",
    "acc = accuracy_score(y_test, y_pred)\n",
    "prec = precision_score(y_test, y_pred)\n",
    "rec = recall_score(y_test, y_pred)\n",
    "f1 = f1_score(y_test, y_pred)\n",
    "\n",
    "# wyniki\n",
    "print(\"Accuracy:\", acc)\n",
    "print(\"Precision:\", prec)\n",
    "print(\"Recall:\", rec)\n",
    "print(\"F1 Score:\", f1)\n",
    "print(\"\\nRaport klasyfikacji:\\n\", classification_report(y_test, y_pred))\n"
   ]
  },
  {
   "cell_type": "code",
   "execution_count": null,
   "id": "908d8cd1",
   "metadata": {},
   "outputs": [],
   "source": [
    "#KOMENTARZ\n",
    "#Model Random Forest poradził sobie dobrze z klasyfikacją nowotqoru. Pomimo małego zbioru danych osiągnięto wsyoką dokładność. \n",
    "#Precision i recall sa dobre model nie pomija chorych pacjentow\n",
    "#F1 score pokazuje dobry balans miedzy precyzja a czuloscia\n",
    "#Model sprawdzilby sie do wstepnej selekcji biomarkerow ale wwarto przetestpwac go na wiekszym zbiorze "
   ]
  }
 ],
 "metadata": {
  "kernelspec": {
   "display_name": "base",
   "language": "python",
   "name": "python3"
  },
  "language_info": {
   "codemirror_mode": {
    "name": "ipython",
    "version": 3
   },
   "file_extension": ".py",
   "mimetype": "text/x-python",
   "name": "python",
   "nbconvert_exporter": "python",
   "pygments_lexer": "ipython3",
   "version": "3.12.7"
  }
 },
 "nbformat": 4,
 "nbformat_minor": 5
}
